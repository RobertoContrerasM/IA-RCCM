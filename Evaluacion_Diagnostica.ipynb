{
  "nbformat": 4,
  "nbformat_minor": 0,
  "metadata": {
    "colab": {
      "provenance": [],
      "toc_visible": true,
      "authorship_tag": "ABX9TyOHni2rSYSpFYHV7ia8r22D",
      "include_colab_link": true
    },
    "kernelspec": {
      "name": "python3",
      "display_name": "Python 3"
    },
    "language_info": {
      "name": "python"
    }
  },
  "cells": [
    {
      "cell_type": "markdown",
      "metadata": {
        "id": "view-in-github",
        "colab_type": "text"
      },
      "source": [
        "<a href=\"https://colab.research.google.com/github/RobertoContrerasM/IA-RCCM/blob/Master/Evaluacion_Diagnostica.ipynb\" target=\"_parent\"><img src=\"https://colab.research.google.com/assets/colab-badge.svg\" alt=\"Open In Colab\"/></a>"
      ]
    },
    {
      "cell_type": "markdown",
      "source": [
        "# Evaluacion Diagnostica"
      ],
      "metadata": {
        "id": "g3t83GkE0m6Z"
      }
    },
    {
      "cell_type": "markdown",
      "source": [
        "¿Cini se declara una lista en pyton?"
      ],
      "metadata": {
        "id": "eKa9sXmVWueS"
      }
    },
    {
      "cell_type": "code",
      "execution_count": null,
      "metadata": {
        "colab": {
          "base_uri": "https://localhost:8080/"
        },
        "id": "5wr3dvoKVCSQ",
        "outputId": "6ba342c2-6db9-41a8-a113-768a327f1a86"
      },
      "outputs": [
        {
          "output_type": "stream",
          "name": "stdout",
          "text": [
            "[1, 2, 3]\n"
          ]
        }
      ],
      "source": [
        "my_list = [1,2,3]\n",
        "print (my_list)"
      ]
    },
    {
      "cell_type": "markdown",
      "source": [
        "¿Que funcion se usa para conocer el numero de elementos en una lista?"
      ],
      "metadata": {
        "id": "wc5R054QXGYT"
      }
    },
    {
      "cell_type": "code",
      "source": [
        "print(len(my_list))"
      ],
      "metadata": {
        "colab": {
          "base_uri": "https://localhost:8080/"
        },
        "id": "K_3woUbZXUAI",
        "outputId": "e7601103-8b4b-44ab-9213-c26b876e02f2"
      },
      "execution_count": null,
      "outputs": [
        {
          "output_type": "stream",
          "name": "stdout",
          "text": [
            "3\n"
          ]
        }
      ]
    },
    {
      "cell_type": "markdown",
      "source": [
        "¿Que resultado obtendremos al ejecutar el siguiente codigo?"
      ],
      "metadata": {
        "id": "TOf05yLeXcWk"
      }
    },
    {
      "cell_type": "code",
      "source": [
        "a=[1,2,3,4,5]\n",
        "print(a[::-1])"
      ],
      "metadata": {
        "colab": {
          "base_uri": "https://localhost:8080/"
        },
        "id": "kIhc0f7DXrBx",
        "outputId": "911072ee-4f7e-4d03-f13b-888812a38acf"
      },
      "execution_count": null,
      "outputs": [
        {
          "output_type": "stream",
          "name": "stdout",
          "text": [
            "[5, 4, 3, 2, 1]\n"
          ]
        }
      ]
    },
    {
      "cell_type": "markdown",
      "source": [
        "¿Cual es el resultado de la siguiente expresion?"
      ],
      "metadata": {
        "id": "5NOgV40HY-Vl"
      }
    },
    {
      "cell_type": "code",
      "source": [
        "print(3*5+2)"
      ],
      "metadata": {
        "colab": {
          "base_uri": "https://localhost:8080/"
        },
        "id": "N8wzrTA9ZEbi",
        "outputId": "d16f06d4-ed92-4834-a328-bbc3468823bb"
      },
      "execution_count": null,
      "outputs": [
        {
          "output_type": "stream",
          "name": "stdout",
          "text": [
            "17\n"
          ]
        }
      ]
    },
    {
      "cell_type": "markdown",
      "source": [
        "¿Que salida generara el siguiente codigo?"
      ],
      "metadata": {
        "id": "I5xBN0pGZZkS"
      }
    },
    {
      "cell_type": "code",
      "source": [
        "def foo(x, y=[]):\n",
        " y.append(x)\n",
        " return y\n",
        "\n",
        "   print(foo(1))\n",
        "   print(foo(2,[]))\n",
        "   print(foo(3))"
      ],
      "metadata": {
        "colab": {
          "base_uri": "https://localhost:8080/",
          "height": 106
        },
        "id": "kShNN9TeZeZJ",
        "outputId": "6ac12399-8f44-4188-a2f5-6914ee02a1f5"
      },
      "execution_count": null,
      "outputs": [
        {
          "output_type": "error",
          "ename": "IndentationError",
          "evalue": "unexpected indent (<ipython-input-30-38ed358041cb>, line 11)",
          "traceback": [
            "\u001b[0;36m  File \u001b[0;32m\"<ipython-input-30-38ed358041cb>\"\u001b[0;36m, line \u001b[0;32m11\u001b[0m\n\u001b[0;31m    print(foo(1))\u001b[0m\n\u001b[0m    ^\u001b[0m\n\u001b[0;31mIndentationError\u001b[0m\u001b[0;31m:\u001b[0m unexpected indent\n"
          ]
        }
      ]
    },
    {
      "cell_type": "markdown",
      "source": [
        "¿Que resultado obtendremos al ejecutar el siguiente codigo?"
      ],
      "metadata": {
        "id": "SRbrjvK6c_ag"
      }
    },
    {
      "cell_type": "code",
      "source": [
        "def multiply_list(numbers, factor):\n",
        "  result = []\n",
        "  for number in numbers:\n",
        "    result.append(number*factor)\n",
        "    return result\n",
        "\n",
        "    my_list=[1,2,3]\n",
        "    output=multiply_list(my_list,2)\n",
        "    print(output)"
      ],
      "metadata": {
        "id": "-lrN1KIPdHmG"
      },
      "execution_count": null,
      "outputs": []
    },
    {
      "cell_type": "markdown",
      "source": [
        "# Practica de Python"
      ],
      "metadata": {
        "id": "7SR_auXv08Vx"
      }
    },
    {
      "cell_type": "markdown",
      "source": [
        "Clasificacion de una lista con numeros pares e impares"
      ],
      "metadata": {
        "id": "GGHThm7o1Xuz"
      }
    },
    {
      "cell_type": "code",
      "source": [
        "from typing_extensions import ParamSpecArgs\n",
        "#Declaracion de variables\n",
        "numeros = [10,25,36,98,77,34,89,50]\n",
        "pares = []\n",
        "impares = []"
      ],
      "metadata": {
        "id": "k-Sfpx0c1cRG"
      },
      "execution_count": 17,
      "outputs": []
    },
    {
      "cell_type": "code",
      "source": [
        "#Ciclo for para recorrer la lista\n",
        "for numero in numeros:\n",
        "  if numero % 2 == 0:\n",
        "    #pares [0] = numeros[0]; java, C, C#, \"0 es el valor de 'i'\"\n",
        "    pares.append(numero)\n",
        "  else:\n",
        "      impares.append(numero)\n"
      ],
      "metadata": {
        "id": "-FkarTJX2qVA"
      },
      "execution_count": 18,
      "outputs": []
    },
    {
      "cell_type": "code",
      "source": [
        "# Impresion de resultado\n",
        "print(\"Pares: \", pares , \"total: \", len(pares))\n",
        "print(\"Impares: \", impares , \"total: \", len(impares))"
      ],
      "metadata": {
        "colab": {
          "base_uri": "https://localhost:8080/"
        },
        "id": "MIhRoOBy4L86",
        "outputId": "10e77d25-1f30-46ad-d3a6-246d3cb957b9"
      },
      "execution_count": 20,
      "outputs": [
        {
          "output_type": "stream",
          "name": "stdout",
          "text": [
            "Pares:  [10, 36, 98, 34, 50] total:  5\n",
            "Impares:  [25, 77, 89] total:  3\n"
          ]
        }
      ]
    },
    {
      "cell_type": "code",
      "source": [
        "#Agregar una funcion donde se va SUMAR el contenido de los pares e impares\n",
        "def sumaLista(lista):\n",
        "  suma = 0\n",
        "  for numero in lista:\n",
        "    suma += numero\n",
        "  return suma"
      ],
      "metadata": {
        "id": "CPyiAOqL6KSF"
      },
      "execution_count": 32,
      "outputs": []
    },
    {
      "cell_type": "code",
      "source": [
        "#Impresion de la suma\n",
        "print(\"suma de pares\" , sumaLista(pares))\n",
        "print(\"suma de impares\" , sumaLista(impares))"
      ],
      "metadata": {
        "colab": {
          "base_uri": "https://localhost:8080/"
        },
        "id": "4RtGHe287SEl",
        "outputId": "34564780-cffe-4a52-d039-4113f6a0f53a"
      },
      "execution_count": 33,
      "outputs": [
        {
          "output_type": "stream",
          "name": "stdout",
          "text": [
            "suma de pares 228\n",
            "suma de impares 191\n"
          ]
        }
      ]
    },
    {
      "cell_type": "markdown",
      "source": [],
      "metadata": {
        "id": "OxmpnihtWwDk"
      }
    },
    {
      "cell_type": "markdown",
      "source": [],
      "metadata": {
        "id": "PUB7aiJFWoz9"
      }
    }
  ]
}