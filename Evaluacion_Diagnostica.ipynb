{
  "nbformat": 4,
  "nbformat_minor": 0,
  "metadata": {
    "colab": {
      "provenance": [],
      "authorship_tag": "ABX9TyPhUGbwQjufpaGw0EXr08SM",
      "include_colab_link": true
    },
    "kernelspec": {
      "name": "python3",
      "display_name": "Python 3"
    },
    "language_info": {
      "name": "python"
    }
  },
  "cells": [
    {
      "cell_type": "markdown",
      "metadata": {
        "id": "view-in-github",
        "colab_type": "text"
      },
      "source": [
        "<a href=\"https://colab.research.google.com/github/RobertoContrerasM/IA-RCCM/blob/Master/Evaluacion_Diagnostica.ipynb\" target=\"_parent\"><img src=\"https://colab.research.google.com/assets/colab-badge.svg\" alt=\"Open In Colab\"/></a>"
      ]
    },
    {
      "cell_type": "markdown",
      "source": [
        "¿Cini se declara una lista en pyton?"
      ],
      "metadata": {
        "id": "eKa9sXmVWueS"
      }
    },
    {
      "cell_type": "code",
      "execution_count": 1,
      "metadata": {
        "colab": {
          "base_uri": "https://localhost:8080/"
        },
        "id": "5wr3dvoKVCSQ",
        "outputId": "6ba342c2-6db9-41a8-a113-768a327f1a86"
      },
      "outputs": [
        {
          "output_type": "stream",
          "name": "stdout",
          "text": [
            "[1, 2, 3]\n"
          ]
        }
      ],
      "source": [
        "my_list = [1,2,3]\n",
        "print (my_list)"
      ]
    },
    {
      "cell_type": "markdown",
      "source": [
        "¿Que funcion se usa para conocer el numero de elementos en una lista?"
      ],
      "metadata": {
        "id": "wc5R054QXGYT"
      }
    },
    {
      "cell_type": "code",
      "source": [
        "print(len(my_list))"
      ],
      "metadata": {
        "colab": {
          "base_uri": "https://localhost:8080/"
        },
        "id": "K_3woUbZXUAI",
        "outputId": "e7601103-8b4b-44ab-9213-c26b876e02f2"
      },
      "execution_count": 2,
      "outputs": [
        {
          "output_type": "stream",
          "name": "stdout",
          "text": [
            "3\n"
          ]
        }
      ]
    },
    {
      "cell_type": "markdown",
      "source": [
        "¿Que resultado obtendremos al ejecutar el siguiente codigo?"
      ],
      "metadata": {
        "id": "TOf05yLeXcWk"
      }
    },
    {
      "cell_type": "code",
      "source": [
        "a=[1,2,3,4,5]\n",
        "print(a[::-1])"
      ],
      "metadata": {
        "colab": {
          "base_uri": "https://localhost:8080/"
        },
        "id": "kIhc0f7DXrBx",
        "outputId": "911072ee-4f7e-4d03-f13b-888812a38acf"
      },
      "execution_count": 3,
      "outputs": [
        {
          "output_type": "stream",
          "name": "stdout",
          "text": [
            "[5, 4, 3, 2, 1]\n"
          ]
        }
      ]
    },
    {
      "cell_type": "markdown",
      "source": [
        "¿Cual es el resultado de la siguiente expresion?"
      ],
      "metadata": {
        "id": "5NOgV40HY-Vl"
      }
    },
    {
      "cell_type": "code",
      "source": [
        "print(3*5+2)"
      ],
      "metadata": {
        "colab": {
          "base_uri": "https://localhost:8080/"
        },
        "id": "N8wzrTA9ZEbi",
        "outputId": "d16f06d4-ed92-4834-a328-bbc3468823bb"
      },
      "execution_count": 7,
      "outputs": [
        {
          "output_type": "stream",
          "name": "stdout",
          "text": [
            "17\n"
          ]
        }
      ]
    },
    {
      "cell_type": "markdown",
      "source": [
        "¿Que salida generara el siguiente codigo?"
      ],
      "metadata": {
        "id": "I5xBN0pGZZkS"
      }
    },
    {
      "cell_type": "code",
      "source": [
        "def foo(x, y=[]):\n",
        " y.appeend(x)\n",
        " return y\n",
        "\n",
        "   print(foo(1))\n",
        "   print(foo(2,[]))\n",
        "   print(foo(3))"
      ],
      "metadata": {
        "colab": {
          "base_uri": "https://localhost:8080/",
          "height": 106
        },
        "id": "kShNN9TeZeZJ",
        "outputId": "49f43687-4ac1-4792-8ac4-2bb37c76a3d8"
      },
      "execution_count": 25,
      "outputs": [
        {
          "output_type": "error",
          "ename": "IndentationError",
          "evalue": "unexpected indent (<ipython-input-25-f0ad8c838a6c>, line 5)",
          "traceback": [
            "\u001b[0;36m  File \u001b[0;32m\"<ipython-input-25-f0ad8c838a6c>\"\u001b[0;36m, line \u001b[0;32m5\u001b[0m\n\u001b[0;31m    print(foo(1))\u001b[0m\n\u001b[0m    ^\u001b[0m\n\u001b[0;31mIndentationError\u001b[0m\u001b[0;31m:\u001b[0m unexpected indent\n"
          ]
        }
      ]
    },
    {
      "cell_type": "markdown",
      "source": [],
      "metadata": {
        "id": "OxmpnihtWwDk"
      }
    },
    {
      "cell_type": "markdown",
      "source": [],
      "metadata": {
        "id": "PUB7aiJFWoz9"
      }
    }
  ]
}