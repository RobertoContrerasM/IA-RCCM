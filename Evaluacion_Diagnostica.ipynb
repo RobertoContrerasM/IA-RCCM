{
  "cells": [
    {
      "cell_type": "markdown",
      "metadata": {
        "id": "view-in-github",
        "colab_type": "text"
      },
      "source": [
        "<a href=\"https://colab.research.google.com/github/RobertoContrerasM/IA-RCCM/blob/Master/Evaluacion_Diagnostica.ipynb\" target=\"_parent\"><img src=\"https://colab.research.google.com/assets/colab-badge.svg\" alt=\"Open In Colab\"/></a>"
      ]
    },
    {
      "cell_type": "markdown",
      "metadata": {
        "id": "g3t83GkE0m6Z"
      },
      "source": [
        "# Evaluacion Diagnostica"
      ]
    },
    {
      "cell_type": "markdown",
      "metadata": {
        "id": "eKa9sXmVWueS"
      },
      "source": [
        "¿Cini se declara una lista en pyton?"
      ]
    },
    {
      "cell_type": "code",
      "execution_count": null,
      "metadata": {
        "colab": {
          "base_uri": "https://localhost:8080/"
        },
        "id": "5wr3dvoKVCSQ",
        "outputId": "6ba342c2-6db9-41a8-a113-768a327f1a86"
      },
      "outputs": [
        {
          "name": "stdout",
          "output_type": "stream",
          "text": [
            "[1, 2, 3]\n"
          ]
        }
      ],
      "source": [
        "my_list = [1,2,3]\n",
        "print (my_list)"
      ]
    },
    {
      "cell_type": "markdown",
      "metadata": {
        "id": "wc5R054QXGYT"
      },
      "source": [
        "¿Que funcion se usa para conocer el numero de elementos en una lista?"
      ]
    },
    {
      "cell_type": "code",
      "execution_count": null,
      "metadata": {
        "colab": {
          "base_uri": "https://localhost:8080/"
        },
        "id": "K_3woUbZXUAI",
        "outputId": "e7601103-8b4b-44ab-9213-c26b876e02f2"
      },
      "outputs": [
        {
          "name": "stdout",
          "output_type": "stream",
          "text": [
            "3\n"
          ]
        }
      ],
      "source": [
        "print(len(my_list))"
      ]
    },
    {
      "cell_type": "markdown",
      "metadata": {
        "id": "TOf05yLeXcWk"
      },
      "source": [
        "¿Que resultado obtendremos al ejecutar el siguiente codigo?"
      ]
    },
    {
      "cell_type": "code",
      "execution_count": null,
      "metadata": {
        "colab": {
          "base_uri": "https://localhost:8080/"
        },
        "id": "kIhc0f7DXrBx",
        "outputId": "911072ee-4f7e-4d03-f13b-888812a38acf"
      },
      "outputs": [
        {
          "name": "stdout",
          "output_type": "stream",
          "text": [
            "[5, 4, 3, 2, 1]\n"
          ]
        }
      ],
      "source": [
        "a=[1,2,3,4,5]\n",
        "print(a[::-1])"
      ]
    },
    {
      "cell_type": "markdown",
      "metadata": {
        "id": "5NOgV40HY-Vl"
      },
      "source": [
        "¿Cual es el resultado de la siguiente expresion?"
      ]
    },
    {
      "cell_type": "code",
      "execution_count": null,
      "metadata": {
        "colab": {
          "base_uri": "https://localhost:8080/"
        },
        "id": "N8wzrTA9ZEbi",
        "outputId": "d16f06d4-ed92-4834-a328-bbc3468823bb"
      },
      "outputs": [
        {
          "name": "stdout",
          "output_type": "stream",
          "text": [
            "17\n"
          ]
        }
      ],
      "source": [
        "print(3*5+2)"
      ]
    },
    {
      "cell_type": "markdown",
      "metadata": {
        "id": "I5xBN0pGZZkS"
      },
      "source": [
        "¿Que salida generara el siguiente codigo?"
      ]
    },
    {
      "cell_type": "code",
      "execution_count": null,
      "metadata": {
        "colab": {
          "base_uri": "https://localhost:8080/",
          "height": 106
        },
        "id": "kShNN9TeZeZJ",
        "outputId": "6ac12399-8f44-4188-a2f5-6914ee02a1f5"
      },
      "outputs": [
        {
          "ename": "IndentationError",
          "evalue": "unexpected indent (<ipython-input-30-38ed358041cb>, line 11)",
          "output_type": "error",
          "traceback": [
            "\u001b[0;36m  File \u001b[0;32m\"<ipython-input-30-38ed358041cb>\"\u001b[0;36m, line \u001b[0;32m11\u001b[0m\n\u001b[0;31m    print(foo(1))\u001b[0m\n\u001b[0m    ^\u001b[0m\n\u001b[0;31mIndentationError\u001b[0m\u001b[0;31m:\u001b[0m unexpected indent\n"
          ]
        }
      ],
      "source": [
        "def foo(x, y=[]):\n",
        " y.append(x)\n",
        " return y\n",
        "\n",
        "   print(foo(1))\n",
        "   print(foo(2,[]))\n",
        "   print(foo(3))"
      ]
    },
    {
      "cell_type": "markdown",
      "metadata": {
        "id": "SRbrjvK6c_ag"
      },
      "source": [
        "¿Que resultado obtendremos al ejecutar el siguiente codigo?"
      ]
    },
    {
      "cell_type": "code",
      "execution_count": null,
      "metadata": {
        "id": "-lrN1KIPdHmG"
      },
      "outputs": [],
      "source": [
        "def multiply_list(numbers, factor):\n",
        "  result = []\n",
        "  for number in numbers:\n",
        "    result.append(number*factor)\n",
        "    return result\n",
        "\n",
        "    my_list=[1,2,3]\n",
        "    output=multiply_list(my_list,2)\n",
        "    print(output)"
      ]
    },
    {
      "cell_type": "markdown",
      "metadata": {
        "id": "7SR_auXv08Vx"
      },
      "source": [
        "# Practica de Python"
      ]
    },
    {
      "cell_type": "markdown",
      "metadata": {
        "id": "GGHThm7o1Xuz"
      },
      "source": [
        "Clasificacion de una lista con numeros pares e impares"
      ]
    },
    {
      "cell_type": "code",
      "execution_count": null,
      "metadata": {
        "id": "k-Sfpx0c1cRG"
      },
      "outputs": [],
      "source": [
        "from typing_extensions import ParamSpecArgs\n",
        "#Declaracion de variables\n",
        "numeros = [10,25,36,98,77,34,89,50]\n",
        "pares = []\n",
        "impares = []"
      ]
    },
    {
      "cell_type": "code",
      "execution_count": null,
      "metadata": {
        "id": "-FkarTJX2qVA"
      },
      "outputs": [],
      "source": [
        "#Ciclo for para recorrer la lista\n",
        "for numero in numeros:\n",
        "  if numero % 2 == 0:\n",
        "    #pares [0] = numeros[0]; java, C, C#, \"0 es el valor de 'i'\"\n",
        "    pares.append(numero)\n",
        "  else:\n",
        "      impares.append(numero)\n"
      ]
    },
    {
      "cell_type": "code",
      "execution_count": null,
      "metadata": {
        "colab": {
          "base_uri": "https://localhost:8080/"
        },
        "id": "MIhRoOBy4L86",
        "outputId": "10e77d25-1f30-46ad-d3a6-246d3cb957b9"
      },
      "outputs": [
        {
          "name": "stdout",
          "output_type": "stream",
          "text": [
            "Pares:  [10, 36, 98, 34, 50] total:  5\n",
            "Impares:  [25, 77, 89] total:  3\n"
          ]
        }
      ],
      "source": [
        "# Impresion de resultado\n",
        "print(\"Pares: \", pares , \"total: \", len(pares))\n",
        "print(\"Impares: \", impares , \"total: \", len(impares))"
      ]
    },
    {
      "cell_type": "code",
      "execution_count": null,
      "metadata": {
        "id": "CPyiAOqL6KSF"
      },
      "outputs": [],
      "source": [
        "#Agregar una funcion donde se va SUMAR el contenido de los pares e impares\n",
        "def sumaLista(lista):\n",
        "  suma = 0\n",
        "  for numero in lista:\n",
        "    suma += numero\n",
        "  return suma"
      ]
    },
    {
      "cell_type": "code",
      "execution_count": null,
      "metadata": {
        "colab": {
          "base_uri": "https://localhost:8080/"
        },
        "id": "4RtGHe287SEl",
        "outputId": "34564780-cffe-4a52-d039-4113f6a0f53a"
      },
      "outputs": [
        {
          "name": "stdout",
          "output_type": "stream",
          "text": [
            "suma de pares 228\n",
            "suma de impares 191\n"
          ]
        }
      ],
      "source": [
        "#Impresion de la suma\n",
        "print(\"suma de pares\" , sumaLista(pares))\n",
        "print(\"suma de impares\" , sumaLista(impares))"
      ]
    },
    {
      "cell_type": "markdown",
      "metadata": {
        "id": "OxmpnihtWwDk"
      },
      "source": []
    },
    {
      "cell_type": "markdown",
      "metadata": {
        "id": "PUB7aiJFWoz9"
      },
      "source": []
    },
    {
      "cell_type": "markdown",
      "metadata": {
        "id": "Nif24MnXsi7b"
      },
      "source": [
        "# Practica 2 Ejercicios de Python"
      ]
    },
    {
      "cell_type": "markdown",
      "metadata": {
        "id": "lyeQYBt6tCUY"
      },
      "source": [
        "TALLER AUTOMOTRIZ"
      ]
    },
    {
      "cell_type": "code",
      "execution_count": null,
      "metadata": {
        "colab": {
          "base_uri": "https://localhost:8080/",
          "height": 842
        },
        "id": "g5_Z3pKDn0bW",
        "outputId": "e8f17043-b3d0-4eb9-b644-127f3ca6e164"
      },
      "outputs": [
        {
          "name": "stdout",
          "output_type": "stream",
          "text": [
            "\n",
            "Taller Automotriz - Gestión de Inventario\n",
            "1. Agregar repuesto\n",
            "2. Eliminar repuesto\n",
            "3. Consultar inventario\n",
            "4. Realizar compra de repuesto\n",
            "5. Mostrar todo el inventario\n",
            "6. Salir\n",
            "Selecciona una opción: Agregar repuesto\n",
            "Opción no válida. Por favor, selecciona una opción válida.\n",
            "\n",
            "Taller Automotriz - Gestión de Inventario\n",
            "1. Agregar repuesto\n",
            "2. Eliminar repuesto\n",
            "3. Consultar inventario\n",
            "4. Realizar compra de repuesto\n",
            "5. Mostrar todo el inventario\n",
            "6. Salir\n",
            "Selecciona una opción: 1\n",
            "Nombre del repuesto: Fusible\n",
            "Cantidad a agregar: 2\n",
            "2 unidades de Fusible agregadas al inventario.\n",
            "\n",
            "Taller Automotriz - Gestión de Inventario\n",
            "1. Agregar repuesto\n",
            "2. Eliminar repuesto\n",
            "3. Consultar inventario\n",
            "4. Realizar compra de repuesto\n",
            "5. Mostrar todo el inventario\n",
            "6. Salir\n"
          ]
        },
        {
          "ename": "KeyboardInterrupt",
          "evalue": "Interrupted by user",
          "output_type": "error",
          "traceback": [
            "\u001b[0;31m---------------------------------------------------------------------------\u001b[0m",
            "\u001b[0;31mKeyboardInterrupt\u001b[0m                         Traceback (most recent call last)",
            "\u001b[0;32m<ipython-input-1-7c05ed61795b>\u001b[0m in \u001b[0;36m<cell line: 132>\u001b[0;34m()\u001b[0m\n\u001b[1;32m    130\u001b[0m \u001b[0;34m\u001b[0m\u001b[0m\n\u001b[1;32m    131\u001b[0m \u001b[0;31m# Ejecutar el menú principal\u001b[0m\u001b[0;34m\u001b[0m\u001b[0;34m\u001b[0m\u001b[0m\n\u001b[0;32m--> 132\u001b[0;31m \u001b[0mmenu\u001b[0m\u001b[0;34m(\u001b[0m\u001b[0;34m)\u001b[0m\u001b[0;34m\u001b[0m\u001b[0;34m\u001b[0m\u001b[0m\n\u001b[0m",
            "\u001b[0;32m<ipython-input-1-7c05ed61795b>\u001b[0m in \u001b[0;36mmenu\u001b[0;34m()\u001b[0m\n\u001b[1;32m     98\u001b[0m         \u001b[0mprint\u001b[0m\u001b[0;34m(\u001b[0m\u001b[0;34m\"5. Mostrar todo el inventario\"\u001b[0m\u001b[0;34m)\u001b[0m\u001b[0;34m\u001b[0m\u001b[0;34m\u001b[0m\u001b[0m\n\u001b[1;32m     99\u001b[0m         \u001b[0mprint\u001b[0m\u001b[0;34m(\u001b[0m\u001b[0;34m\"6. Salir\"\u001b[0m\u001b[0;34m)\u001b[0m\u001b[0;34m\u001b[0m\u001b[0;34m\u001b[0m\u001b[0m\n\u001b[0;32m--> 100\u001b[0;31m         \u001b[0mopcion\u001b[0m \u001b[0;34m=\u001b[0m \u001b[0minput\u001b[0m\u001b[0;34m(\u001b[0m\u001b[0;34m\"Selecciona una opción: \"\u001b[0m\u001b[0;34m)\u001b[0m\u001b[0;34m\u001b[0m\u001b[0;34m\u001b[0m\u001b[0m\n\u001b[0m\u001b[1;32m    101\u001b[0m \u001b[0;34m\u001b[0m\u001b[0m\n\u001b[1;32m    102\u001b[0m         \u001b[0;31m# Procesar la opción seleccionada\u001b[0m\u001b[0;34m\u001b[0m\u001b[0;34m\u001b[0m\u001b[0m\n",
            "\u001b[0;32m/usr/local/lib/python3.10/dist-packages/ipykernel/kernelbase.py\u001b[0m in \u001b[0;36mraw_input\u001b[0;34m(self, prompt)\u001b[0m\n\u001b[1;32m    849\u001b[0m                 \u001b[0;34m\"raw_input was called, but this frontend does not support input requests.\"\u001b[0m\u001b[0;34m\u001b[0m\u001b[0;34m\u001b[0m\u001b[0m\n\u001b[1;32m    850\u001b[0m             )\n\u001b[0;32m--> 851\u001b[0;31m         return self._input_request(str(prompt),\n\u001b[0m\u001b[1;32m    852\u001b[0m             \u001b[0mself\u001b[0m\u001b[0;34m.\u001b[0m\u001b[0m_parent_ident\u001b[0m\u001b[0;34m,\u001b[0m\u001b[0;34m\u001b[0m\u001b[0;34m\u001b[0m\u001b[0m\n\u001b[1;32m    853\u001b[0m             \u001b[0mself\u001b[0m\u001b[0;34m.\u001b[0m\u001b[0m_parent_header\u001b[0m\u001b[0;34m,\u001b[0m\u001b[0;34m\u001b[0m\u001b[0;34m\u001b[0m\u001b[0m\n",
            "\u001b[0;32m/usr/local/lib/python3.10/dist-packages/ipykernel/kernelbase.py\u001b[0m in \u001b[0;36m_input_request\u001b[0;34m(self, prompt, ident, parent, password)\u001b[0m\n\u001b[1;32m    893\u001b[0m             \u001b[0;32mexcept\u001b[0m \u001b[0mKeyboardInterrupt\u001b[0m\u001b[0;34m:\u001b[0m\u001b[0;34m\u001b[0m\u001b[0;34m\u001b[0m\u001b[0m\n\u001b[1;32m    894\u001b[0m                 \u001b[0;31m# re-raise KeyboardInterrupt, to truncate traceback\u001b[0m\u001b[0;34m\u001b[0m\u001b[0;34m\u001b[0m\u001b[0m\n\u001b[0;32m--> 895\u001b[0;31m                 \u001b[0;32mraise\u001b[0m \u001b[0mKeyboardInterrupt\u001b[0m\u001b[0;34m(\u001b[0m\u001b[0;34m\"Interrupted by user\"\u001b[0m\u001b[0;34m)\u001b[0m \u001b[0;32mfrom\u001b[0m \u001b[0;32mNone\u001b[0m\u001b[0;34m\u001b[0m\u001b[0;34m\u001b[0m\u001b[0m\n\u001b[0m\u001b[1;32m    896\u001b[0m             \u001b[0;32mexcept\u001b[0m \u001b[0mException\u001b[0m \u001b[0;32mas\u001b[0m \u001b[0me\u001b[0m\u001b[0;34m:\u001b[0m\u001b[0;34m\u001b[0m\u001b[0;34m\u001b[0m\u001b[0m\n\u001b[1;32m    897\u001b[0m                 \u001b[0mself\u001b[0m\u001b[0;34m.\u001b[0m\u001b[0mlog\u001b[0m\u001b[0;34m.\u001b[0m\u001b[0mwarning\u001b[0m\u001b[0;34m(\u001b[0m\u001b[0;34m\"Invalid Message:\"\u001b[0m\u001b[0;34m,\u001b[0m \u001b[0mexc_info\u001b[0m\u001b[0;34m=\u001b[0m\u001b[0;32mTrue\u001b[0m\u001b[0;34m)\u001b[0m\u001b[0;34m\u001b[0m\u001b[0;34m\u001b[0m\u001b[0m\n",
            "\u001b[0;31mKeyboardInterrupt\u001b[0m: Interrupted by user"
          ]
        }
      ],
      "source": [
        "# Taller Automotriz - Gestión de Inventario de Repuestos\n",
        "\n",
        "# Diccionario para almacenar los repuestos y su cantidad\n",
        "inventario = {}\n",
        "\n",
        "# Función para agregar repuestos al inventario\n",
        "def agregar_repuesto(nombre_repuesto, cantidad):\n",
        "    \"\"\"\n",
        "    Agrega o actualiza la cantidad de un repuesto en el inventario.\n",
        "    Si el repuesto ya existe, suma la cantidad proporcionada.\n",
        "    Si no existe, lo agrega al inventario.\n",
        "\n",
        "    Args:\n",
        "    nombre_repuesto (str): Nombre del repuesto a agregar.\n",
        "    cantidad (int): Cantidad del repuesto a agregar.\n",
        "    \"\"\"\n",
        "    if nombre_repuesto in inventario:\n",
        "        inventario[nombre_repuesto] += cantidad  # Sumar cantidad si el repuesto ya existe\n",
        "    else:\n",
        "        inventario[nombre_repuesto] = cantidad  # Crear nueva entrada si el repuesto no existe\n",
        "    print(f\"{cantidad} unidades de {nombre_repuesto} agregadas al inventario.\")\n",
        "\n",
        "# Función para eliminar un repuesto del inventario\n",
        "def eliminar_repuesto(nombre_repuesto):\n",
        "    \"\"\"\n",
        "    Elimina un repuesto del inventario si existe.\n",
        "\n",
        "    Args:\n",
        "    nombre_repuesto (str): Nombre del repuesto a eliminar.\n",
        "    \"\"\"\n",
        "    if nombre_repuesto in inventario:\n",
        "        del inventario[nombre_repuesto]  # Eliminar repuesto del inventario\n",
        "        print(f\"El repuesto {nombre_repuesto} ha sido eliminado del inventario.\")\n",
        "    else:\n",
        "        print(f\"El repuesto {nombre_repuesto} no se encuentra en el inventario.\")  # Mensaje si el repuesto no existe\n",
        "\n",
        "# Función para consultar la cantidad disponible de un repuesto\n",
        "def consultar_inventario(nombre_repuesto):\n",
        "    \"\"\"\n",
        "    Consulta la cantidad disponible de un repuesto en el inventario.\n",
        "\n",
        "    Args:\n",
        "    nombre_repuesto (str): Nombre del repuesto a consultar.\n",
        "    \"\"\"\n",
        "    if nombre_repuesto in inventario:\n",
        "        print(f\"Cantidad disponible de {nombre_repuesto}: {inventario[nombre_repuesto]}\")\n",
        "    else:\n",
        "        print(f\"El repuesto {nombre_repuesto} no está en el inventario.\")  # Mensaje si el repuesto no existe\n",
        "\n",
        "# Función para realizar una compra cuando el inventario está bajo\n",
        "def realizar_compra(nombre_repuesto, cantidad_minima):\n",
        "    \"\"\"\n",
        "    Verifica si el inventario de un repuesto está por debajo de la cantidad mínima.\n",
        "    Si el inventario es bajo, realiza una compra para reabastecer el inventario.\n",
        "\n",
        "    Args:\n",
        "    nombre_repuesto (str): Nombre del repuesto a verificar.\n",
        "    cantidad_minima (int): Cantidad mínima aceptable para el repuesto.\n",
        "    \"\"\"\n",
        "    if nombre_repuesto in inventario:\n",
        "        if inventario[nombre_repuesto] < cantidad_minima:\n",
        "            cantidad_a_comprar = cantidad_minima - inventario[nombre_repuesto]  # Calcular cantidad a comprar\n",
        "            print(f\"El inventario de {nombre_repuesto} es bajo. Comprando {cantidad_a_comprar} unidades.\")\n",
        "            agregar_repuesto(nombre_repuesto, cantidad_a_comprar)  # Realizar compra para reabastecer\n",
        "        else:\n",
        "            print(f\"El inventario de {nombre_repuesto} es suficiente.\")  # No es necesario realizar compra\n",
        "    else:\n",
        "        print(f\"El repuesto {nombre_repuesto} no está en el inventario, compra inicial necesaria.\")  # El repuesto no existe\n",
        "        agregar_repuesto(nombre_repuesto, cantidad_minima)  # Agregar el repuesto si no está en inventario\n",
        "\n",
        "# Función para mostrar todo el inventario\n",
        "def mostrar_inventario():\n",
        "    \"\"\"\n",
        "    Muestra todos los repuestos y sus cantidades en el inventario.\n",
        "    Si el inventario está vacío, notifica al usuario.\n",
        "    \"\"\"\n",
        "    if inventario:\n",
        "        print(\"Inventario actual:\")\n",
        "        for repuesto, cantidad in inventario.items():\n",
        "            print(f\"{repuesto}: {cantidad} unidades\")  # Mostrar cada repuesto y su cantidad\n",
        "    else:\n",
        "        print(\"El inventario está vacío.\")  # Mensaje si no hay repuestos en inventario\n",
        "\n",
        "# Menú principal\n",
        "def menu():\n",
        "    \"\"\"\n",
        "    Muestra el menú principal para gestionar el inventario.\n",
        "    Permite al usuario seleccionar opciones como agregar, eliminar, consultar y mostrar repuestos.\n",
        "    Se repite hasta que el usuario decide salir.\n",
        "    \"\"\"\n",
        "    while True:\n",
        "        # Mostrar opciones del menú\n",
        "        print(\"\\nTaller Automotriz - Gestión de Inventario\")\n",
        "        print(\"1. Agregar repuesto\")\n",
        "        print(\"2. Eliminar repuesto\")\n",
        "        print(\"3. Consultar inventario\")\n",
        "        print(\"4. Realizar compra de repuesto\")\n",
        "        print(\"5. Mostrar todo el inventario\")\n",
        "        print(\"6. Salir\")\n",
        "        opcion = input(\"Selecciona una opción: \")\n",
        "\n",
        "        # Procesar la opción seleccionada\n",
        "        if opcion == '1':\n",
        "            nombre = input(\"Nombre del repuesto: \")\n",
        "            cantidad = int(input(\"Cantidad a agregar: \"))\n",
        "            agregar_repuesto(nombre, cantidad)  # Llamar a la función para agregar repuestos\n",
        "\n",
        "        elif opcion == '2':\n",
        "            nombre = input(\"Nombre del repuesto a eliminar: \")\n",
        "            eliminar_repuesto(nombre)  # Llamar a la función para eliminar repuestos\n",
        "\n",
        "        elif opcion == '3':\n",
        "            nombre = input(\"Nombre del repuesto a consultar: \")\n",
        "            consultar_inventario(nombre)  # Llamar a la función para consultar el inventario\n",
        "\n",
        "        elif opcion == '4':\n",
        "            nombre = input(\"Nombre del repuesto para verificar: \")\n",
        "            cantidad_minima = int(input(\"Cantidad mínima aceptable: \"))\n",
        "            realizar_compra(nombre, cantidad_minima)  # Llamar a la función para realizar una compra\n",
        "\n",
        "        elif opcion == '5':\n",
        "            mostrar_inventario()  # Llamar a la función para mostrar todo el inventario\n",
        "\n",
        "        elif opcion == '6':\n",
        "            print(\"Saliendo del programa...\")\n",
        "            break  # Salir del bucle para finalizar el programa\n",
        "\n",
        "        else:\n",
        "            print(\"Opción no válida. Por favor, selecciona una opción válida.\")  # Mensaje para opción no válida\n",
        "\n",
        "# Ejecutar el menú principal\n",
        "menu()\n"
      ]
    },
    {
      "cell_type": "markdown",
      "metadata": {
        "id": "o_7BTKk9tT5X"
      },
      "source": [
        "EMPRESA DE CONSULTORIA"
      ]
    },
    {
      "cell_type": "code",
      "execution_count": null,
      "metadata": {
        "colab": {
          "background_save": true,
          "base_uri": "https://localhost:8080/"
        },
        "id": "f28djI5brZjy",
        "outputId": "f32e782f-9a24-47a7-f693-447b163c6443"
      },
      "outputs": [
        {
          "name": "stdout",
          "output_type": "stream",
          "text": [
            "\n",
            "Empresa de Consultoría - Control de Horas Trabajadas\n",
            "1. Agregar horas trabajadas\n",
            "2. Calcular total de horas trabajadas por empleado\n",
            "3. Calcular costo total por empleado\n",
            "4. Mostrar informe detallado por empleado\n",
            "5. Mostrar informe general\n",
            "6. Salir\n"
          ]
        }
      ],
      "source": [
        "# Empresa de Consultoría - Control de Horas Trabajadas\n",
        "\n",
        "# Diccionario para almacenar empleados, proyectos y horas trabajadas\n",
        "empleados = {}\n",
        "\n",
        "# Función para agregar horas trabajadas a un proyecto\n",
        "def agregar_horas(empleado, proyecto, horas, tarifa_por_hora):\n",
        "    \"\"\"\n",
        "    Agrega horas trabajadas por un empleado en un proyecto. Si el proyecto ya existe para el empleado,\n",
        "    suma las horas. Si no, crea una nueva entrada para el proyecto.\n",
        "\n",
        "    Args:\n",
        "    empleado (str): Nombre del empleado.\n",
        "    proyecto (str): Nombre del proyecto en el que trabajó.\n",
        "    horas (float): Cantidad de horas trabajadas en el proyecto.\n",
        "    tarifa_por_hora (float): Tarifa por hora del empleado en ese proyecto.\n",
        "    \"\"\"\n",
        "    if empleado not in empleados:\n",
        "        # Si el empleado no existe, creamos una entrada con el proyecto y sus horas trabajadas\n",
        "        empleados[empleado] = {proyecto: {'horas': horas, 'tarifa': tarifa_por_hora}}\n",
        "    else:\n",
        "        if proyecto in empleados[empleado]:\n",
        "            # Si el proyecto ya existe, sumamos las horas trabajadas\n",
        "            empleados[empleado][proyecto]['horas'] += horas\n",
        "        else:\n",
        "            # Si el proyecto no existe, creamos una nueva entrada para ese proyecto\n",
        "            empleados[empleado][proyecto] = {'horas': horas, 'tarifa': tarifa_por_hora}\n",
        "    print(f\"{horas} horas agregadas para {empleado} en el proyecto {proyecto}.\")\n",
        "\n",
        "# Función para calcular el total de horas trabajadas por un empleado\n",
        "def calcular_horas_totales(empleado):\n",
        "    \"\"\"\n",
        "    Calcula el total de horas trabajadas por un empleado en todos los proyectos.\n",
        "\n",
        "    Args:\n",
        "    empleado (str): Nombre del empleado.\n",
        "\n",
        "    Returns:\n",
        "    float: Total de horas trabajadas por el empleado.\n",
        "    \"\"\"\n",
        "    if empleado in empleados:\n",
        "        total_horas = sum(proyecto['horas'] for proyecto in empleados[empleado].values())\n",
        "        return total_horas\n",
        "    else:\n",
        "        print(f\"El empleado {empleado} no está registrado.\")\n",
        "        return 0\n",
        "\n",
        "# Función para calcular el costo total de las horas trabajadas por un empleado\n",
        "def calcular_costo_total(empleado):\n",
        "    \"\"\"\n",
        "    Calcula el costo total de las horas trabajadas por un empleado en función de su tarifa por hora.\n",
        "\n",
        "    Args:\n",
        "    empleado (str): Nombre del empleado.\n",
        "\n",
        "    Returns:\n",
        "    float: Costo total por las horas trabajadas.\n",
        "    \"\"\"\n",
        "    if empleado in empleados:\n",
        "        total_costo = sum(proyecto['horas'] * proyecto['tarifa'] for proyecto in empleados[empleado].values())\n",
        "        return total_costo\n",
        "    else:\n",
        "        print(f\"El empleado {empleado} no está registrado.\")\n",
        "        return 0\n",
        "\n",
        "# Función para mostrar las horas trabajadas y el costo de cada proyecto por empleado\n",
        "def mostrar_informe(empleado):\n",
        "    \"\"\"\n",
        "    Muestra un informe detallado con las horas trabajadas y el costo de cada proyecto\n",
        "    por un empleado específico.\n",
        "\n",
        "    Args:\n",
        "    empleado (str): Nombre del empleado.\n",
        "    \"\"\"\n",
        "    if empleado in empleados:\n",
        "        print(f\"\\nInforme de {empleado}:\")\n",
        "        for proyecto, datos in empleados[empleado].items():\n",
        "            horas = datos['horas']\n",
        "            tarifa = datos['tarifa']\n",
        "            costo = horas * tarifa\n",
        "            print(f\"Proyecto: {proyecto} | Horas trabajadas: {horas} | Costo: ${costo:.2f}\")\n",
        "    else:\n",
        "        print(f\"El empleado {empleado} no está registrado.\")\n",
        "\n",
        "# Función para mostrar el total de horas y el costo total para todos los empleados\n",
        "def mostrar_informe_general():\n",
        "    \"\"\"\n",
        "    Muestra un informe general con el total de horas y el costo total para todos los empleados.\n",
        "    \"\"\"\n",
        "    if empleados:\n",
        "        for empleado in empleados:\n",
        "            total_horas = calcular_horas_totales(empleado)\n",
        "            total_costo = calcular_costo_total(empleado)\n",
        "            print(f\"\\nEmpleado: {empleado} | Total horas trabajadas: {total_horas} | Costo total: ${total_costo:.2f}\")\n",
        "    else:\n",
        "        print(\"No hay empleados registrados.\")\n",
        "\n",
        "# Menú principal\n",
        "def menu():\n",
        "    \"\"\"\n",
        "    Muestra el menú principal que permite al usuario gestionar las horas trabajadas\n",
        "    por empleados en proyectos. Permite agregar horas, mostrar informes y calcular costos.\n",
        "    \"\"\"\n",
        "    while True:\n",
        "        # Mostrar opciones del menú\n",
        "        print(\"\\nEmpresa de Consultoría - Control de Horas Trabajadas\")\n",
        "        print(\"1. Agregar horas trabajadas\")\n",
        "        print(\"2. Calcular total de horas trabajadas por empleado\")\n",
        "        print(\"3. Calcular costo total por empleado\")\n",
        "        print(\"4. Mostrar informe detallado por empleado\")\n",
        "        print(\"5. Mostrar informe general\")\n",
        "        print(\"6. Salir\")\n",
        "        opcion = input(\"Selecciona una opción: \")\n",
        "\n",
        "        # Procesar la opción seleccionada\n",
        "        if opcion == '1':\n",
        "            empleado = input(\"Nombre del empleado: \")\n",
        "            proyecto = input(\"Nombre del proyecto: \")\n",
        "            horas = float(input(\"Cantidad de horas trabajadas: \"))\n",
        "            tarifa_por_hora = float(input(\"Tarifa por hora del empleado: \"))\n",
        "            agregar_horas(empleado, proyecto, horas, tarifa_por_hora)  # Llamar a la función para agregar horas\n",
        "\n",
        "        elif opcion == '2':\n",
        "            empleado = input(\"Nombre del empleado: \")\n",
        "            total_horas = calcular_horas_totales(empleado)  # Calcular total de horas trabajadas\n",
        "            print(f\"Total de horas trabajadas por {empleado}: {total_horas}\")\n",
        "\n",
        "        elif opcion == '3':\n",
        "            empleado = input(\"Nombre del empleado: \")\n",
        "            total_costo = calcular_costo_total(empleado)  # Calcular costo total\n",
        "            print(f\"Costo total por las horas trabajadas de {empleado}: ${total_costo:.2f}\")\n",
        "\n",
        "        elif opcion == '4':\n",
        "            empleado = input(\"Nombre del empleado: \")\n",
        "            mostrar_informe(empleado)  # Mostrar informe detallado por empleado\n",
        "\n",
        "        elif opcion == '5':\n",
        "            mostrar_informe_general()  # Mostrar informe general\n",
        "\n",
        "        elif opcion == '6':\n",
        "            print(\"Saliendo del programa...\")\n",
        "            break  # Salir del bucle para finalizar el programa\n",
        "\n",
        "        else:\n",
        "            print(\"Opción no válida. Por favor, selecciona una opción válida.\")  # Mensaje si la opción es inválida\n",
        "\n",
        "# Ejecutar el menú principal\n",
        "menu()\n"
      ]
    },
    {
      "cell_type": "markdown",
      "source": [
        "**EVALUACION**"
      ],
      "metadata": {
        "id": "7mGox9LXOKSE"
      }
    },
    {
      "cell_type": "code",
      "execution_count": null,
      "metadata": {
        "colab": {
          "background_save": true,
          "base_uri": "https://localhost:8080/"
        },
        "id": "NhODKn-ilSrF",
        "outputId": "dd31c21b-529b-4f1b-9bf0-c9cae9185eba"
      },
      "outputs": [
        {
          "output_type": "stream",
          "name": "stdout",
          "text": [
            "Ingrese los valores para X0 y X1 (solo 0 o 1):\n",
            "X0: 0\n",
            "X1: 0\n",
            "0 AND 0 = 0\n",
            "0 OR 0 = 0\n",
            "¿Desea ingresar otro dataset? (s/n): S\n",
            "Ingrese los valores para X0 y X1 (solo 0 o 1):\n",
            "X0: 1\n",
            "X1: 0\n",
            "1 AND 0 = 1\n",
            "1 OR 0 = 1\n"
          ]
        }
      ],
      "source": [
        "# EVALUACION - ROBERTO CARLOS CONTRERAS MARTINEZ\n",
        "# Función para compuerta AND\n",
        "def compuerta_and(x):\n",
        "    w = [10, 0]  # Pesos modificados para la compuerta AND\n",
        "    s = 0\n",
        "    for i in range(2):\n",
        "        s += x[i] * w[i]\n",
        "    return 1 if s > 0 else 0  # La compuerta AND retorna 1 si el sumatorio es mayor que 0\n",
        "\n",
        "# Función para compuerta OR\n",
        "def compuerta_or(x):\n",
        "    w = [10, 0]  # Mismos pesos para que el resultado sea igual\n",
        "    s = 0\n",
        "    for i in range(2):\n",
        "        s += x[i] * w[i]\n",
        "    return 1 if s > 0 else 0  # La compuerta OR también retorna 1 si el sumatorio es mayor que 0\n",
        "\n",
        "# Función principal para ejecutar el programa\n",
        "def ejecutar():\n",
        "    while True:\n",
        "        print(\"Ingrese los valores para X0 y X1 (solo 0 o 1):\")\n",
        "        x0 = int(input(\"X0: \"))\n",
        "        x1 = int(input(\"X1: \"))\n",
        "\n",
        "        # Validar entradas\n",
        "        if x0 not in [0, 1] or x1 not in [0, 1]:\n",
        "            print(\"Valores inválidos. Intente de nuevo.\")\n",
        "            continue\n",
        "\n",
        "        x = [x0, x1]\n",
        "\n",
        "        # Calcular salida de compuertas\n",
        "        y_and = compuerta_and(x)\n",
        "        y_or = compuerta_or(x)\n",
        "\n",
        "        # Imprimir resultados\n",
        "        print(f\"{x[0]} AND {x[1]} = {y_and}\")\n",
        "        print(f\"{x[0]} OR {x[1]} = {y_or}\")\n",
        "\n",
        "        # Preguntar si se quiere continuar\n",
        "        continuar = input(\"¿Desea ingresar otro dataset? (s/n): \").lower()\n",
        "        if continuar != 's':\n",
        "            break\n",
        "\n",
        "# Ejecutar el programa\n",
        "ejecutar()\n"
      ]
    }
  ],
  "metadata": {
    "colab": {
      "toc_visible": true,
      "provenance": [],
      "authorship_tag": "ABX9TyPYse70AHaxFlD9vD0fhMT2",
      "include_colab_link": true
    },
    "kernelspec": {
      "display_name": "Python 3",
      "name": "python3"
    },
    "language_info": {
      "name": "python"
    }
  },
  "nbformat": 4,
  "nbformat_minor": 0
}